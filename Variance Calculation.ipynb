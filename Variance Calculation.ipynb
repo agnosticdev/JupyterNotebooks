{
 "cells": [
  {
   "cell_type": "code",
   "execution_count": 1,
   "metadata": {
    "collapsed": false
   },
   "outputs": [
    {
     "name": "stdout",
     "output_type": "stream",
     "text": [
      "Populating the interactive namespace from numpy and matplotlib\n"
     ]
    }
   ],
   "source": [
    "%pylab inline"
   ]
  },
  {
   "cell_type": "code",
   "execution_count": 2,
   "metadata": {
    "collapsed": true
   },
   "outputs": [],
   "source": [
    "import numpy as np"
   ]
  },
  {
   "cell_type": "code",
   "execution_count": 3,
   "metadata": {
    "collapsed": true
   },
   "outputs": [],
   "source": [
    "# Used for calculation\n",
    "\n",
    "# Calculate Mean\n",
    "# First and third step of the variance calculation\n",
    "def calculate_mean(number_list):\n",
    "\tmean = 0.0\n",
    "\tfor x in number_list:\n",
    "\t\tmean = mean + x\n",
    "\treturn float(mean / float(len(number_list)))\n",
    "\n",
    "# Second step of the variance calculation\n",
    "def squared_differences(number_list, mean):\n",
    "\tsquared_difference_list = []\n",
    "\t# Iterate over the original list\n",
    "\tfor x in number_list:\n",
    "\t\t# Subtract the mean from each number\n",
    "\t\tdifference = x - mean\n",
    "\t\t# Square the difference\n",
    "\t\tsquared_val = (difference * difference)\n",
    "\t\t# Append calculated value to the return list\n",
    "\t\tsquared_difference_list.append(squared_val)\n",
    "\treturn squared_difference_list"
   ]
  },
  {
   "cell_type": "code",
   "execution_count": 4,
   "metadata": {
    "collapsed": false
   },
   "outputs": [
    {
     "data": {
      "text/plain": [
       "6.25"
      ]
     },
     "execution_count": 4,
     "metadata": {},
     "output_type": "execute_result"
    }
   ],
   "source": [
    "# List of numbers\n",
    "num = [13.0, 17.0, 21.0, 15.0, 17.0, 16.0, 19.0, 20.0, 20.0, 18.0, 20.0, 14.0]\n",
    "\n",
    "# Get the mean of the list\n",
    "mean_of_list = calculate_mean(num)\n",
    "\n",
    "# Calculate the squared difference using the mean\n",
    "squar_diff = squared_differences(num, mean_of_list)\n",
    "\n",
    "# Calculate the final variance\n",
    "variance = calculate_mean(squar_diff)\n",
    "\n",
    "# Hand calculated variance\n",
    "variance"
   ]
  },
  {
   "cell_type": "code",
   "execution_count": null,
   "metadata": {
    "collapsed": true
   },
   "outputs": [],
   "source": [
    "# Use numpy to verify our hand calculations\n",
    "np.var(num)"
   ]
  }
 ],
 "metadata": {
  "kernelspec": {
   "display_name": "Python 2",
   "language": "python",
   "name": "python2"
  },
  "language_info": {
   "codemirror_mode": {
    "name": "ipython",
    "version": 2
   },
   "file_extension": ".py",
   "mimetype": "text/x-python",
   "name": "python",
   "nbconvert_exporter": "python",
   "pygments_lexer": "ipython2",
   "version": "2.7.10"
  }
 },
 "nbformat": 4,
 "nbformat_minor": 1
}
