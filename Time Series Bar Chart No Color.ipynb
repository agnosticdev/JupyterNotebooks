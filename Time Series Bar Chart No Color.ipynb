{
 "cells": [
  {
   "cell_type": "code",
   "execution_count": 1,
   "metadata": {
    "collapsed": false
   },
   "outputs": [
    {
     "name": "stdout",
     "output_type": "stream",
     "text": [
      "Populating the interactive namespace from numpy and matplotlib\n"
     ]
    }
   ],
   "source": [
    "%matplotlib inline\n",
    "%pylab inline"
   ]
  },
  {
   "cell_type": "code",
   "execution_count": 2,
   "metadata": {
    "collapsed": true
   },
   "outputs": [],
   "source": [
    "import matplotlib.pyplot as plt\n",
    "import pandas as pd\n",
    "import numpy as np\n",
    "import xlrd\n",
    "from pandas import *"
   ]
  },
  {
   "cell_type": "code",
   "execution_count": 3,
   "metadata": {
    "collapsed": false
   },
   "outputs": [
    {
     "data": {
      "image/png": "[encoded data removed]",
      "text/plain": [
       "<matplotlib.figure.Figure at 0x7fc0f756b450>"
      ]
     },
     "metadata": {},
     "output_type": "display_data"
    }
   ],
   "source": [
    "# Load the excel data using pandas into a data frame with a reference to sheet name\n",
    "xl_file = pd.read_excel(open('data/ApplianceShipments.xlsx','rb'), sheetname='ApplianceShipments')\n",
    "\n",
    "# Create a list to use as the outer list\n",
    "shipments = []\n",
    "# Create the inner list with the shipments data\n",
    "shipments_list = xl_file['Shipments'].tolist()\n",
    "# Append the inner list to the outer list to create a 1xn matrix\n",
    "shipments.append(shipments_list)\n",
    "\n",
    "# Create a new data frame with the newly augmented shipments matrix\n",
    "df = pd.DataFrame(shipments, columns=xl_file['Quarter'])\n",
    "\n",
    "# Get the row of data that we want to use, in this case the first row\n",
    "row = df.iloc[0]\n",
    "# Create our plot\n",
    "row.plot(x=\"Quarter\", y=\"Shipments\", kind=\"bar\", title=\"Appliance Shipments\")\n",
    "# Use matplotlib to show our time series plot\n",
    "plt.show()"
   ]
  },
  {
   "cell_type": "code",
   "execution_count": null,
   "metadata": {
    "collapsed": true
   },
   "outputs": [],
   "source": []
  }
 ],
 "metadata": {
  "kernelspec": {
   "display_name": "Python 2",
   "language": "python",
   "name": "python2"
  },
  "language_info": {
   "codemirror_mode": {
    "name": "ipython",
    "version": 2
   },
   "file_extension": ".py",
   "mimetype": "text/x-python",
   "name": "python",
   "nbconvert_exporter": "python",
   "pygments_lexer": "ipython2",
   "version": "2.7.12"
  }
 },
 "nbformat": 4,
 "nbformat_minor": 1
}
