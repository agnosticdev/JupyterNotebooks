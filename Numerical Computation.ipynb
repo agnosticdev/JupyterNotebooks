{
 "cells": [
  {
   "cell_type": "code",
   "execution_count": 1,
   "metadata": {
    "collapsed": false
   },
   "outputs": [
    {
     "name": "stdout",
     "output_type": "stream",
     "text": [
      "Populating the interactive namespace from numpy and matplotlib\n"
     ]
    }
   ],
   "source": [
    "%matplotlib inline\n",
    "%pylab inline"
   ]
  },
  {
   "cell_type": "code",
   "execution_count": 2,
   "metadata": {
    "collapsed": true
   },
   "outputs": [],
   "source": [
    "import matplotlib.pyplot as plt\n",
    "import pandas as pd\n",
    "import numpy as np\n",
    "import xlrd\n",
    "from pandas import *"
   ]
  },
  {
   "cell_type": "code",
   "execution_count": 3,
   "metadata": {
    "collapsed": true
   },
   "outputs": [],
   "source": [
    "# Load the excel data using pandas into a data frame with a reference to sheet name\n",
    "xl_file = pd.read_excel(open('data/Cereals.xlsx','rb'), sheetname='Data from DASL')"
   ]
  },
  {
   "cell_type": "code",
   "execution_count": 27,
   "metadata": {
    "collapsed": false
   },
   "outputs": [
    {
     "data": {
      "text/html": [
       "<div>\n",
       "<table border=\"1\" class=\"dataframe\">\n",
       "  <thead>\n",
       "    <tr style=\"text-align: right;\">\n",
       "      <th></th>\n",
       "      <th>calories</th>\n",
       "      <th>protein</th>\n",
       "      <th>fat</th>\n",
       "      <th>sodium</th>\n",
       "      <th>fiber</th>\n",
       "      <th>carbo</th>\n",
       "      <th>potass</th>\n",
       "      <th>vitamins</th>\n",
       "      <th>shelf</th>\n",
       "      <th>weight</th>\n",
       "      <th>cups</th>\n",
       "      <th>rating</th>\n",
       "    </tr>\n",
       "  </thead>\n",
       "  <tbody>\n",
       "    <tr>\n",
       "      <th>Average</th>\n",
       "      <td>106.883117</td>\n",
       "      <td>2.545455</td>\n",
       "      <td>1.012987</td>\n",
       "      <td>159.675325</td>\n",
       "      <td>2.151948</td>\n",
       "      <td>14.610390</td>\n",
       "      <td>96.103896</td>\n",
       "      <td>28.246753</td>\n",
       "      <td>2.207792</td>\n",
       "      <td>1.029610</td>\n",
       "      <td>0.821039</td>\n",
       "      <td>42.665705</td>\n",
       "    </tr>\n",
       "    <tr>\n",
       "      <th>Max</th>\n",
       "      <td>160.000000</td>\n",
       "      <td>6.000000</td>\n",
       "      <td>5.000000</td>\n",
       "      <td>320.000000</td>\n",
       "      <td>14.000000</td>\n",
       "      <td>23.000000</td>\n",
       "      <td>330.000000</td>\n",
       "      <td>100.000000</td>\n",
       "      <td>3.000000</td>\n",
       "      <td>1.500000</td>\n",
       "      <td>1.500000</td>\n",
       "      <td>93.704912</td>\n",
       "    </tr>\n",
       "    <tr>\n",
       "      <th>Median</th>\n",
       "      <td>110.000000</td>\n",
       "      <td>3.000000</td>\n",
       "      <td>1.000000</td>\n",
       "      <td>180.000000</td>\n",
       "      <td>2.000000</td>\n",
       "      <td>14.000000</td>\n",
       "      <td>90.000000</td>\n",
       "      <td>25.000000</td>\n",
       "      <td>2.000000</td>\n",
       "      <td>1.000000</td>\n",
       "      <td>0.750000</td>\n",
       "      <td>40.400208</td>\n",
       "    </tr>\n",
       "    <tr>\n",
       "      <th>Min</th>\n",
       "      <td>50.000000</td>\n",
       "      <td>1.000000</td>\n",
       "      <td>0.000000</td>\n",
       "      <td>0.000000</td>\n",
       "      <td>0.000000</td>\n",
       "      <td>0.000000</td>\n",
       "      <td>0.000000</td>\n",
       "      <td>0.000000</td>\n",
       "      <td>1.000000</td>\n",
       "      <td>0.500000</td>\n",
       "      <td>0.250000</td>\n",
       "      <td>18.042851</td>\n",
       "    </tr>\n",
       "    <tr>\n",
       "      <th>Standard Deviation</th>\n",
       "      <td>19.357185</td>\n",
       "      <td>1.087657</td>\n",
       "      <td>0.999916</td>\n",
       "      <td>83.286151</td>\n",
       "      <td>2.367837</td>\n",
       "      <td>4.204685</td>\n",
       "      <td>70.786965</td>\n",
       "      <td>22.196967</td>\n",
       "      <td>0.827100</td>\n",
       "      <td>0.149496</td>\n",
       "      <td>0.231200</td>\n",
       "      <td>13.955774</td>\n",
       "    </tr>\n",
       "  </tbody>\n",
       "</table>\n",
       "</div>"
      ],
      "text/plain": [
       "                      calories   protein       fat      sodium      fiber  \\\n",
       "Average             106.883117  2.545455  1.012987  159.675325   2.151948   \n",
       "Max                 160.000000  6.000000  5.000000  320.000000  14.000000   \n",
       "Median              110.000000  3.000000  1.000000  180.000000   2.000000   \n",
       "Min                  50.000000  1.000000  0.000000    0.000000   0.000000   \n",
       "Standard Deviation   19.357185  1.087657  0.999916   83.286151   2.367837   \n",
       "\n",
       "                        carbo      potass    vitamins     shelf    weight  \\\n",
       "Average             14.610390   96.103896   28.246753  2.207792  1.029610   \n",
       "Max                 23.000000  330.000000  100.000000  3.000000  1.500000   \n",
       "Median              14.000000   90.000000   25.000000  2.000000  1.000000   \n",
       "Min                  0.000000    0.000000    0.000000  1.000000  0.500000   \n",
       "Standard Deviation   4.204685   70.786965   22.196967  0.827100  0.149496   \n",
       "\n",
       "                        cups     rating  \n",
       "Average             0.821039  42.665705  \n",
       "Max                 1.500000  93.704912  \n",
       "Median              0.750000  40.400208  \n",
       "Min                 0.250000  18.042851  \n",
       "Standard Deviation  0.231200  13.955774  "
      ]
     },
     "execution_count": 27,
     "metadata": {},
     "output_type": "execute_result"
    }
   ],
   "source": [
    "# Setup a key map of all the quantitative values we are numerically processing\n",
    "quantitative_keys = [\"calories\", \"protein\", \"fat\", \"sodium\", \"fiber\", \"carbo\", \"potass\", \"vitamins\", \"shelf\", \"weight\", \"cups\", \"rating\"]\n",
    "# Setup the foundation of a dataframe\n",
    "quantitative_data_frame_dictionary = {\"calories\":{}, \"protein\":{}, \"fat\":{}, \"sodium\":{}, \"fiber\":{}, \"carbo\":{}, \"potass\":{}, \"vitamins\":{}, \"shelf\":{}, \"weight\":{}, \"cups\":{}, \"rating\":{}}\n",
    "\n",
    "# For each key in my list of quantitative_keys get a list of values from the excel file\n",
    "for key in quantitative_keys:\n",
    "    # load that list into a variable to be used in this iteration\n",
    "    l = xl_file[key].tolist()\n",
    "    # Make sure there are no NaN variables\n",
    "    i = 0\n",
    "    for val in l:\n",
    "        if math.isnan(val):\n",
    "            l[i] = 0\n",
    "        i += 1\n",
    "    # Set the mean\n",
    "    mean_of_list = np.mean(l)\n",
    "    quantitative_data_frame_dictionary[key][\"Average\"] = mean_of_list\n",
    "     # Set the median\n",
    "    median_of_list = np.median(l)\n",
    "    quantitative_data_frame_dictionary[key][\"Median\"] = median_of_list\n",
    "    # Get the min value in the list\n",
    "    min_of_list = np.amin(l)\n",
    "    quantitative_data_frame_dictionary[key][\"Min\"] = min_of_list\n",
    "    # Get the max value in the list\n",
    "    max_of_list = np.amax(l)\n",
    "    quantitative_data_frame_dictionary[key][\"Max\"] = max_of_list\n",
    "    # Get the standard deviation of the list\n",
    "    std_of_list = np.std(l)\n",
    "    quantitative_data_frame_dictionary[key][\"Standard Deviation\"] = std_of_list \n",
    "\n",
    "# Load this info into a DataFram and output the data\n",
    "df = pd.DataFrame(quantitative_data_frame_dictionary, columns=[\"calories\", \"protein\", \"fat\", \"sodium\", \"fiber\", \"carbo\", \"potass\", \"vitamins\", \"shelf\", \"weight\", \"cups\", \"rating\"], index=[\"Average\", \"Max\", \"Median\", \"Min\", \"Standard Deviation\"])\n",
    "df"
   ]
  },
  {
   "cell_type": "code",
   "execution_count": 30,
   "metadata": {
    "collapsed": false
   },
   "outputs": [
    {
     "data": {
      "text/html": [
       "<div>\n",
       "<table border=\"1\" class=\"dataframe\">\n",
       "  <thead>\n",
       "    <tr style=\"text-align: right;\">\n",
       "      <th></th>\n",
       "      <th>Description</th>\n",
       "    </tr>\n",
       "  </thead>\n",
       "  <tbody>\n",
       "    <tr>\n",
       "      <th>calories</th>\n",
       "      <td>Numerical amount of calories in a given cereal.</td>\n",
       "    </tr>\n",
       "    <tr>\n",
       "      <th>protein</th>\n",
       "      <td>Numerical amount of protein in a given cereal.</td>\n",
       "    </tr>\n",
       "    <tr>\n",
       "      <th>fat</th>\n",
       "      <td>Numerical amount of fat in the cereal</td>\n",
       "    </tr>\n",
       "    <tr>\n",
       "      <th>sodium</th>\n",
       "      <td>Numerical amount of sodium in a given cereal.</td>\n",
       "    </tr>\n",
       "    <tr>\n",
       "      <th>fiber</th>\n",
       "      <td>Numerical amount of fiber in a given cereal.</td>\n",
       "    </tr>\n",
       "    <tr>\n",
       "      <th>carbo</th>\n",
       "      <td>Numerical amount of carbohydrates in a given c...</td>\n",
       "    </tr>\n",
       "    <tr>\n",
       "      <th>potass</th>\n",
       "      <td>Numerical amount of potassium in a given cereal.</td>\n",
       "    </tr>\n",
       "    <tr>\n",
       "      <th>vitamins</th>\n",
       "      <td>Numerical amount of vitamins in a given cereal.</td>\n",
       "    </tr>\n",
       "    <tr>\n",
       "      <th>shelf</th>\n",
       "      <td>Numerical values representing which self the c...</td>\n",
       "    </tr>\n",
       "    <tr>\n",
       "      <th>weight</th>\n",
       "      <td>Numerical amount of weight.  Not sure what the...</td>\n",
       "    </tr>\n",
       "    <tr>\n",
       "      <th>cups</th>\n",
       "      <td>Numerical amount of cups in a serving size</td>\n",
       "    </tr>\n",
       "    <tr>\n",
       "      <th>rating</th>\n",
       "      <td>Numerical rating of a given cereal</td>\n",
       "    </tr>\n",
       "  </tbody>\n",
       "</table>\n",
       "</div>"
      ],
      "text/plain": [
       "                                                Description\n",
       "calories    Numerical amount of calories in a given cereal.\n",
       "protein      Numerical amount of protein in a given cereal.\n",
       "fat                   Numerical amount of fat in the cereal\n",
       "sodium        Numerical amount of sodium in a given cereal.\n",
       "fiber          Numerical amount of fiber in a given cereal.\n",
       "carbo     Numerical amount of carbohydrates in a given c...\n",
       "potass     Numerical amount of potassium in a given cereal.\n",
       "vitamins    Numerical amount of vitamins in a given cereal.\n",
       "shelf     Numerical values representing which self the c...\n",
       "weight    Numerical amount of weight.  Not sure what the...\n",
       "cups            Numerical amount of cups in a serving size \n",
       "rating                  Numerical rating of a given cereal "
      ]
     },
     "execution_count": 30,
     "metadata": {},
     "output_type": "execute_result"
    }
   ],
   "source": [
    "# Load the excel data that contains the stats summary, suing sheet1\n",
    "summary = pd.read_excel(open('data/stats_summary_4.xlsx','rb'), sheetname='Sheet1')\n",
    "summary"
   ]
  },
  {
   "cell_type": "code",
   "execution_count": null,
   "metadata": {
    "collapsed": true
   },
   "outputs": [],
   "source": []
  }
 ],
 "metadata": {
  "kernelspec": {
   "display_name": "Python 2",
   "language": "python",
   "name": "python2"
  },
  "language_info": {
   "codemirror_mode": {
    "name": "ipython",
    "version": 2
   },
   "file_extension": ".py",
   "mimetype": "text/x-python",
   "name": "python",
   "nbconvert_exporter": "python",
   "pygments_lexer": "ipython2",
   "version": "2.7.12"
  }
 },
 "nbformat": 4,
 "nbformat_minor": 1
}
